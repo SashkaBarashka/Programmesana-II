{
 "cells": [
  {
   "cell_type": "code",
   "execution_count": 1,
   "metadata": {},
   "outputs": [
    {
     "ename": "SyntaxError",
     "evalue": "invalid syntax (1449220719.py, line 1)",
     "output_type": "error",
     "traceback": [
      "\u001b[1;36m  Cell \u001b[1;32mIn [1], line 1\u001b[1;36m\u001b[0m\n\u001b[1;33m    CREATE TABLE deputati (\u001b[0m\n\u001b[1;37m           ^\u001b[0m\n\u001b[1;31mSyntaxError\u001b[0m\u001b[1;31m:\u001b[0m invalid syntax\n"
     ]
    }
   ],
   "source": [
    "CREATE TABLE deputati (\n",
    "kartas_nr INT PRIMARY KEY,\n",
    "vards VARCHAR(20),\n",
    "uzvards VARCHAR(20),\n",
    "partija VARCHAR(20),\n",
    "izglitiba VARCHAR(70),\n",
    "vai_saeima VARCHAR(3),\n",
    "dzimsanas_datums DATE\n",
    ")"
   ]
  }
 ],
 "metadata": {
  "kernelspec": {
   "display_name": "Python 3.10.6 64-bit",
   "language": "python",
   "name": "python3"
  },
  "language_info": {
   "codemirror_mode": {
    "name": "ipython",
    "version": 3
   },
   "file_extension": ".py",
   "mimetype": "text/x-python",
   "name": "python",
   "nbconvert_exporter": "python",
   "pygments_lexer": "ipython3",
   "version": "3.10.6"
  },
  "orig_nbformat": 4,
  "vscode": {
   "interpreter": {
    "hash": "9d674c11913ec762cdea16fbb6359be13b306bb88a115eccb4d688321fcf97cb"
   }
  }
 },
 "nbformat": 4,
 "nbformat_minor": 2
}
