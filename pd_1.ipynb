{
 "cells": [
  {
   "cell_type": "code",
   "execution_count": 115,
   "metadata": {},
   "outputs": [],
   "source": [
    "#Aleksandrs Baranovskis, 12.DIT\n",
    "class Rekinatajs:\n",
    "    def __init__(self):\n",
    "        pass\n",
    "    \n",
    "    def Faktorials(self, x):\n",
    "        if isinstance(x, float):\n",
    "            atb = 'Decimālskaitļus nemāku aprēķināt 😞'\n",
    "        elif x == 1 or x == 0:\n",
    "            atb = 1\n",
    "        elif x == -1:\n",
    "            atb = -1\n",
    "        elif x < -1:\n",
    "            atb = -1\n",
    "            i = -2\n",
    "            while i >= x:\n",
    "                atb = atb * i\n",
    "                i -= 1\n",
    "        else:\n",
    "            atb = 1\n",
    "            i = 2\n",
    "            while i <= x:\n",
    "                atb = atb * i\n",
    "                i += 1\n",
    "        return atb\n",
    "    \n",
    "    def Sum(self, x):\n",
    "        if isinstance(x, float):\n",
    "            atb = \"Decimālskaitļus nemāku aprēķināt 😞\"\n",
    "        elif -1 < x < 1:\n",
    "            atb = x\n",
    "        elif x > 1:\n",
    "            atb = 1\n",
    "            i = 2\n",
    "            while i <= x:\n",
    "                atb = atb + i\n",
    "                i += 1\n",
    "        elif x < -1:\n",
    "            atb = -1\n",
    "            i = -2\n",
    "            while i >= x:\n",
    "                atb = atb + i\n",
    "                i -= 1\n",
    "        return atb\n",
    "    \n",
    "    def testPrime(self, x):\n",
    "        i = 2\n",
    "        while i < x:\n",
    "            if x % i == 0:\n",
    "                return \"Skaitlis nav pirmskaitlis\"\n",
    "                pass\n",
    "            i += 1\n",
    "        return \"Skaitlis ir pirmskaitlis\"\n",
    "\n",
    "    def TableMult(self, x):\n",
    "        n = x\n",
    "        for row in range(1,n+1):\n",
    "            for col in range(1,n+1):\n",
    "                print(row*col, end=\"\\t\")\n",
    "            print()\n",
    "    \n",
    "    def listDiv(self, x):\n",
    "        i = 1\n",
    "        atb = []\n",
    "        while i <= x:\n",
    "            if x % i == 0:\n",
    "                atb.append(i)\n",
    "            i += 1\n",
    "        return atb\n",
    "    \n",
    "    def listDivPrime(self, x):\n",
    "        i = 1\n",
    "        atb = []\n",
    "        while i <= x:\n",
    "            if x % i == 0:\n",
    "                if self.testPrime(i) == \"Skaitlis ir pirmskaitlis\":\n",
    "                    atb.append(i)\n",
    "                else:\n",
    "                    pass\n",
    "            i += 1\n",
    "        return atb"
   ]
  },
  {
   "cell_type": "code",
   "execution_count": 116,
   "metadata": {},
   "outputs": [
    {
     "data": {
      "text/plain": [
       "3628800"
      ]
     },
     "execution_count": 116,
     "metadata": {},
     "output_type": "execute_result"
    }
   ],
   "source": [
    "l = input(\"Ievadiet veselu skaitli: \")\n",
    "l = int(l)\n",
    "pakala = Rekinatajs()\n",
    "pakala.Faktorials(l)"
   ]
  },
  {
   "cell_type": "code",
   "execution_count": 117,
   "metadata": {},
   "outputs": [
    {
     "data": {
      "text/plain": [
       "'Skaitlis nav pirmskaitlis'"
      ]
     },
     "execution_count": 117,
     "metadata": {},
     "output_type": "execute_result"
    }
   ],
   "source": [
    "pakala.testPrime(l)"
   ]
  },
  {
   "cell_type": "code",
   "execution_count": 118,
   "metadata": {},
   "outputs": [
    {
     "data": {
      "text/plain": [
       "55"
      ]
     },
     "execution_count": 118,
     "metadata": {},
     "output_type": "execute_result"
    }
   ],
   "source": [
    "pakala.Sum(l)"
   ]
  },
  {
   "cell_type": "code",
   "execution_count": 119,
   "metadata": {},
   "outputs": [
    {
     "data": {
      "text/plain": [
       "[1, 2, 5, 10]"
      ]
     },
     "execution_count": 119,
     "metadata": {},
     "output_type": "execute_result"
    }
   ],
   "source": [
    "pakala.listDiv(l)"
   ]
  },
  {
   "cell_type": "code",
   "execution_count": 120,
   "metadata": {},
   "outputs": [
    {
     "data": {
      "text/plain": [
       "[1, 2, 5]"
      ]
     },
     "execution_count": 120,
     "metadata": {},
     "output_type": "execute_result"
    }
   ],
   "source": [
    "pakala.listDivPrime(l)"
   ]
  },
  {
   "cell_type": "code",
   "execution_count": 121,
   "metadata": {},
   "outputs": [
    {
     "name": "stdout",
     "output_type": "stream",
     "text": [
      "1\t2\t3\t4\t5\t6\t7\t8\t9\t10\t\n",
      "2\t4\t6\t8\t10\t12\t14\t16\t18\t20\t\n",
      "3\t6\t9\t12\t15\t18\t21\t24\t27\t30\t\n",
      "4\t8\t12\t16\t20\t24\t28\t32\t36\t40\t\n",
      "5\t10\t15\t20\t25\t30\t35\t40\t45\t50\t\n",
      "6\t12\t18\t24\t30\t36\t42\t48\t54\t60\t\n",
      "7\t14\t21\t28\t35\t42\t49\t56\t63\t70\t\n",
      "8\t16\t24\t32\t40\t48\t56\t64\t72\t80\t\n",
      "9\t18\t27\t36\t45\t54\t63\t72\t81\t90\t\n",
      "10\t20\t30\t40\t50\t60\t70\t80\t90\t100\t\n"
     ]
    }
   ],
   "source": [
    "pakala.TableMult(l)"
   ]
  }
 ],
 "metadata": {
  "kernelspec": {
   "display_name": "Python 3.10.0 64-bit",
   "language": "python",
   "name": "python3"
  },
  "language_info": {
   "codemirror_mode": {
    "name": "ipython",
    "version": 3
   },
   "file_extension": ".py",
   "mimetype": "text/x-python",
   "name": "python",
   "nbconvert_exporter": "python",
   "pygments_lexer": "ipython3",
   "version": "3.10.0"
  },
  "orig_nbformat": 4,
  "vscode": {
   "interpreter": {
    "hash": "afb734500600fd355917ca529030176ea0ca205570884b88f2f6f7d791fd3fbe"
   }
  }
 },
 "nbformat": 4,
 "nbformat_minor": 2
}
