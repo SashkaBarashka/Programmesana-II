{
 "cells": [
  {
   "cell_type": "code",
   "execution_count": 72,
   "metadata": {},
   "outputs": [],
   "source": [
    "#Aleksandrs Baranovskis, 12.DIT\n",
    "class Rekinatajs:\n",
    "    def __init__(self):\n",
    "        pass\n",
    "    \n",
    "    def Faktorials(self, x):\n",
    "        if -1 < x < 1:\n",
    "            if x == 0:\n",
    "                atb = 0\n",
    "            else:\n",
    "                atb = x\n",
    "        elif x < -1:\n",
    "            atb = -1\n",
    "            i = -2\n",
    "            while i >= x:\n",
    "                atb = atb * i\n",
    "                i -= 1\n",
    "        else:\n",
    "            atb = 1\n",
    "            i = 2\n",
    "            while i <= x:\n",
    "                atb = atb * i\n",
    "                i += 1\n",
    "        return atb\n",
    "    \n",
    "    def Sum(self, x):\n",
    "        if -1 < x < 1:\n",
    "            atb = x\n",
    "        elif x > 1:\n",
    "            atb = 1\n",
    "            i = 2\n",
    "            while i <= x:\n",
    "                atb = atb + i\n",
    "                i += 1\n",
    "        else:\n",
    "            atb = -1\n",
    "            i = -2\n",
    "            while i >= x:\n",
    "                atb = atb + i\n",
    "                i -= 1\n",
    "        return atb\n",
    "    \n",
    "    def testPrime(self, x):\n",
    "        if x == 0:\n",
    "            return \"Skaitlis nav pirmskaitlis\"\n",
    "        elif x < 0:\n",
    "            i = -2\n",
    "            while i > x:\n",
    "                if x % i == 0:\n",
    "                    return \"Skaitlis nav pirmskaitlis\"\n",
    "                    pass\n",
    "                i -= 1\n",
    "        else:\n",
    "            i = 2\n",
    "            while i < x:\n",
    "                if x % i == 0:\n",
    "                    return \"Skaitlis nav pirmskaitlis\"\n",
    "                    pass\n",
    "                i += 1\n",
    "        return \"Skaitlis ir pirmskaitlis\"\n",
    "\n",
    "    def TableMult(self, x):\n",
    "        n = x\n",
    "        if x < 0:\n",
    "            for row in range(1,n-1):\n",
    "                for col in range(1,n-1):\n",
    "                    print(row*col, end=\"\\t\")\n",
    "                print()\n",
    "        else:\n",
    "            for row in range(1,n+1):\n",
    "                for col in range(1,n+1):\n",
    "                    print(row*col, end=\"\\t\")\n",
    "                print()\n",
    "    \n",
    "    def listDiv(self, x):\n",
    "        atb = []\n",
    "        if x < 0:\n",
    "            i = -1\n",
    "            while i >= x:\n",
    "                if x % i == 0:\n",
    "                    atb.append(i)\n",
    "                i -= 1\n",
    "        else:\n",
    "            i = 1\n",
    "            while i <= x:\n",
    "                if x % i == 0:\n",
    "                    atb.append(i)\n",
    "                i += 1\n",
    "        return atb\n",
    "    \n",
    "    def listDivPrime(self, x):\n",
    "        atb = []\n",
    "        if x < 0:\n",
    "            i = -1\n",
    "            while i >= x:\n",
    "                if x % i == 0:\n",
    "                    if self.testPrime(i) == \"Skaitlis ir pirmskaitlis\":\n",
    "                        atb.append(i)\n",
    "                    else:\n",
    "                        pass\n",
    "                i -= 1\n",
    "        else:\n",
    "            i = 1\n",
    "            while i <= x:\n",
    "                if x % i == 0:\n",
    "                    if self.testPrime(i) == \"Skaitlis ir pirmskaitlis\":\n",
    "                        atb.append(i)\n",
    "                    else:\n",
    "                        pass\n",
    "                i += 1\n",
    "        return atb"
   ]
  },
  {
   "cell_type": "code",
   "execution_count": 73,
   "metadata": {},
   "outputs": [
    {
     "data": {
      "text/plain": [
       "0"
      ]
     },
     "execution_count": 73,
     "metadata": {},
     "output_type": "execute_result"
    }
   ],
   "source": [
    "l = input(\"Ievadiet veselu skaitli (decimālskaitļus tiks noapaļoti): \")\n",
    "l = round(float(l))\n",
    "pakala = Rekinatajs()\n",
    "pakala.Faktorials(l)"
   ]
  },
  {
   "cell_type": "code",
   "execution_count": 74,
   "metadata": {},
   "outputs": [
    {
     "data": {
      "text/plain": [
       "'Skaitlis nav pirmskaitlis'"
      ]
     },
     "execution_count": 74,
     "metadata": {},
     "output_type": "execute_result"
    }
   ],
   "source": [
    "pakala.testPrime(l)"
   ]
  },
  {
   "cell_type": "code",
   "execution_count": 75,
   "metadata": {},
   "outputs": [
    {
     "data": {
      "text/plain": [
       "0"
      ]
     },
     "execution_count": 75,
     "metadata": {},
     "output_type": "execute_result"
    }
   ],
   "source": [
    "pakala.Sum(l)"
   ]
  },
  {
   "cell_type": "code",
   "execution_count": 76,
   "metadata": {},
   "outputs": [
    {
     "data": {
      "text/plain": [
       "[]"
      ]
     },
     "execution_count": 76,
     "metadata": {},
     "output_type": "execute_result"
    }
   ],
   "source": [
    "pakala.listDiv(l)"
   ]
  },
  {
   "cell_type": "code",
   "execution_count": 77,
   "metadata": {},
   "outputs": [
    {
     "data": {
      "text/plain": [
       "[]"
      ]
     },
     "execution_count": 77,
     "metadata": {},
     "output_type": "execute_result"
    }
   ],
   "source": [
    "pakala.listDivPrime(l)"
   ]
  },
  {
   "cell_type": "code",
   "execution_count": 78,
   "metadata": {},
   "outputs": [],
   "source": [
    "pakala.TableMult(l)"
   ]
  }
 ],
 "metadata": {
  "kernelspec": {
   "display_name": "Python 3.10.0 64-bit",
   "language": "python",
   "name": "python3"
  },
  "language_info": {
   "codemirror_mode": {
    "name": "ipython",
    "version": 3
   },
   "file_extension": ".py",
   "mimetype": "text/x-python",
   "name": "python",
   "nbconvert_exporter": "python",
   "pygments_lexer": "ipython3",
   "version": "3.10.0"
  },
  "orig_nbformat": 4,
  "vscode": {
   "interpreter": {
    "hash": "afb734500600fd355917ca529030176ea0ca205570884b88f2f6f7d791fd3fbe"
   }
  }
 },
 "nbformat": 4,
 "nbformat_minor": 2
}
