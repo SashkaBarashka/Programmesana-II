{
 "cells": [
  {
   "cell_type": "code",
   "execution_count": 55,
   "metadata": {},
   "outputs": [],
   "source": [
    "import pandas as pd\n",
    "import math\n",
    "import sys\n",
    "import os\n",
    "\n",
    "#Aleksandrs Baranovskis, 12.DIT\n",
    "l = input(\"Ievadiet veselu skaitli (decimālskaitļus tiks noapaļoti): \")\n",
    "if l.isalpha() == True:\n",
    "    sys.exit(\"Nejau tu neatsķir skaitli no burta...\")\n",
    "else:\n",
    "    l = float(l)\n",
    "    l = round(l)\n",
    "\n",
    "def __init__(self):\n",
    "    pass\n",
    "\n",
    "class Rekinatajs:\n",
    "    \n",
    "    def Faktorials(self, x):\n",
    "        #return math.factorial(x)\n",
    "        if -1 < x < 1:\n",
    "            if x == 0:\n",
    "                atb = 1\n",
    "            else:\n",
    "                atb = x\n",
    "        elif x < -1:\n",
    "            atb = -1\n",
    "            i = -2\n",
    "            while i >= x:\n",
    "                atb = atb * i\n",
    "                i -= 1\n",
    "        else:\n",
    "            atb = 1\n",
    "            i = 2\n",
    "            while i <= x:\n",
    "                atb = atb * i\n",
    "                i += 1\n",
    "        return atb\n",
    "    #Math factorial nevar izmantot uz negatīviem skaitļiem\n",
    "    \n",
    "    def Sum(self, x):\n",
    "        if -1 < x < 1:\n",
    "            atb = x\n",
    "        elif x > 1:\n",
    "            atb = 1\n",
    "            i = 2\n",
    "            while i <= x:\n",
    "                atb = atb + i\n",
    "                i += 1\n",
    "        else:\n",
    "            atb = -1\n",
    "            i = -2\n",
    "            while i >= x:\n",
    "                atb = atb + i\n",
    "                i -= 1\n",
    "        return atb\n",
    "    \n",
    "    def testPrime(self, x):\n",
    "        if x == 0:\n",
    "            return \"Nulle nav ne pirmskaitlis, ne salikts skaitlis\"\n",
    "        elif x < 0:\n",
    "            i = -2\n",
    "            while i > x:\n",
    "                if x % i == 0:\n",
    "                    return \"Skaitlis nav pirmskaitlis\"\n",
    "                i -= 1\n",
    "        else:\n",
    "            i = 2\n",
    "            while i < x:\n",
    "                if x % i == 0:\n",
    "                    return \"Skaitlis nav pirmskaitlis\"\n",
    "                i += 1\n",
    "        return \"Skaitlis ir pirmskaitlis\"\n",
    "\n",
    "    def TableMult(self, x):\n",
    "        if x == 0:\n",
    "            return \"Nullei nav reizināšanas tabulas\"\n",
    "        elif x < 0:\n",
    "            x = x * -1\n",
    "        else:\n",
    "            pass\n",
    "        n = x\n",
    "        B = pd.Series(range(1, x+1))\n",
    "        A = pd.Series(range(1, x+1))\n",
    "        dfA = pd.DataFrame(A)\n",
    "        dfB = pd.DataFrame(B)\n",
    "        dfA.dot(dfB.T)\n",
    "        return (dfA.dot(dfB.T))\n",
    "    \n",
    "    def listDiv(self, x):\n",
    "        atb = []\n",
    "        if x == 0:\n",
    "            return \"Nullei nav dalītāju\"\n",
    "        elif x < 0:\n",
    "            i = -1\n",
    "            while i >= x:\n",
    "                if x % i == 0:\n",
    "                    atb.append(i)\n",
    "                i -= 1\n",
    "        else:\n",
    "            i = 1\n",
    "            while i <= x:\n",
    "                if x % i == 0:\n",
    "                    atb.append(i)\n",
    "                i += 1\n",
    "        return atb\n",
    "    \n",
    "    def listDivPrime(self, x):\n",
    "        atb = []\n",
    "        if x == 0:\n",
    "            return \"Nullei nav dalītāju\"\n",
    "        elif x < 0:\n",
    "            i = -1\n",
    "            while i >= x:\n",
    "                if x % i == 0:\n",
    "                    if self.testPrime(i) == \"Skaitlis ir pirmskaitlis\":\n",
    "                        atb.append(i)\n",
    "                    else:\n",
    "                        pass\n",
    "                i -= 1\n",
    "        else:\n",
    "            i = 1\n",
    "            while i <= x:\n",
    "                if x % i == 0:\n",
    "                    if self.testPrime(i) == \"Skaitlis ir pirmskaitlis\":\n",
    "                        atb.append(i)\n",
    "                    else:\n",
    "                        pass\n",
    "                i += 1\n",
    "        return atb\n",
    "    #Teorētiski katram skatilim var būt gan pozitīvs dalītājs, gan negatīvs, bet ehhh\n",
    "\n",
    "skaitlis = Rekinatajs()"
   ]
  },
  {
   "cell_type": "code",
   "execution_count": 56,
   "metadata": {},
   "outputs": [
    {
     "name": "stdout",
     "output_type": "stream",
     "text": [
      "Skaitļa faktoriāls:  120\n"
     ]
    }
   ],
   "source": [
    "print(\"Skaitļa faktoriāls: \", skaitlis.Faktorials(l))"
   ]
  },
  {
   "cell_type": "code",
   "execution_count": 57,
   "metadata": {},
   "outputs": [
    {
     "name": "stdout",
     "output_type": "stream",
     "text": [
      "Skaitļa summa:  15\n"
     ]
    }
   ],
   "source": [
    "print(\"Skaitļa summa: \", skaitlis.Sum(l))"
   ]
  },
  {
   "cell_type": "code",
   "execution_count": 58,
   "metadata": {},
   "outputs": [
    {
     "name": "stdout",
     "output_type": "stream",
     "text": [
      "Skaitļa pirmskaitlība:  Skaitlis ir pirmskaitlis\n"
     ]
    }
   ],
   "source": [
    "print(\"Skaitļa pirmskaitlība: \", skaitlis.testPrime(l))"
   ]
  },
  {
   "cell_type": "code",
   "execution_count": 59,
   "metadata": {},
   "outputs": [
    {
     "name": "stdout",
     "output_type": "stream",
     "text": [
      "Skaitļa reizināšanas tabula: \n",
      "   0   1   2   3   4\n",
      "0  1   2   3   4   5\n",
      "1  2   4   6   8  10\n",
      "2  3   6   9  12  15\n",
      "3  4   8  12  16  20\n",
      "4  5  10  15  20  25\n"
     ]
    }
   ],
   "source": [
    "print(\"Skaitļa reizināšanas tabula: \")\n",
    "print(skaitlis.TableMult(l))"
   ]
  },
  {
   "cell_type": "code",
   "execution_count": 60,
   "metadata": {},
   "outputs": [
    {
     "name": "stdout",
     "output_type": "stream",
     "text": [
      "Skaitļa dalītāji:  [1, 5]\n"
     ]
    }
   ],
   "source": [
    "print(\"Skaitļa dalītāji: \", skaitlis.listDiv(l))"
   ]
  },
  {
   "cell_type": "code",
   "execution_count": 61,
   "metadata": {},
   "outputs": [
    {
     "name": "stdout",
     "output_type": "stream",
     "text": [
      "Skaitļa dalītāji, kas ir pirmskaitļi:  [1, 5]\n"
     ]
    }
   ],
   "source": [
    "print(\"Skaitļa dalītāji, kas ir pirmskaitļi: \", skaitlis.listDivPrime(l))"
   ]
  }
 ],
 "metadata": {
  "kernelspec": {
   "display_name": "Python 3.10.6 64-bit",
   "language": "python",
   "name": "python3"
  },
  "language_info": {
   "codemirror_mode": {
    "name": "ipython",
    "version": 3
   },
   "file_extension": ".py",
   "mimetype": "text/x-python",
   "name": "python",
   "nbconvert_exporter": "python",
   "pygments_lexer": "ipython3",
   "version": "3.10.6"
  },
  "orig_nbformat": 4,
  "vscode": {
   "interpreter": {
    "hash": "9d674c11913ec762cdea16fbb6359be13b306bb88a115eccb4d688321fcf97cb"
   }
  }
 },
 "nbformat": 4,
 "nbformat_minor": 2
}
