{
 "cells": [
  {
   "cell_type": "code",
   "execution_count": 105,
   "metadata": {},
   "outputs": [],
   "source": [
    "import pandas as pd\n",
    "import math\n",
    "\n",
    "#Aleksandrs Baranovskis, 12.DIT\n",
    "class Rekinatajs:\n",
    "    def __init__(self):\n",
    "        pass\n",
    "    \n",
    "    def Faktorials(self, x):\n",
    "        #return math.factorial(x)\n",
    "        if -1 < x < 1:\n",
    "            if x == 0:\n",
    "                atb = 1\n",
    "            else:\n",
    "                atb = x\n",
    "        elif x < -1:\n",
    "            atb = -1\n",
    "            i = -2\n",
    "            while i >= x:\n",
    "                atb = atb * i\n",
    "                i -= 1\n",
    "        else:\n",
    "            atb = 1\n",
    "            i = 2\n",
    "            while i <= x:\n",
    "                atb = atb * i\n",
    "                i += 1\n",
    "        return atb\n",
    "    #Math factorial nevar izmantot uz negatīviem skaitļiem\n",
    "    \n",
    "    def Sum(self, x):\n",
    "        if -1 < x < 1:\n",
    "            atb = x\n",
    "        elif x > 1:\n",
    "            atb = 1\n",
    "            i = 2\n",
    "            while i <= x:\n",
    "                atb = atb + i\n",
    "                i += 1\n",
    "        else:\n",
    "            atb = -1\n",
    "            i = -2\n",
    "            while i >= x:\n",
    "                atb = atb + i\n",
    "                i -= 1\n",
    "        return atb\n",
    "    \n",
    "    def testPrime(self, x):\n",
    "        if x == 0:\n",
    "            return \"Nulle nav ne pirmskaitlis, ne salikts skaitlis\"\n",
    "        elif x < 0:\n",
    "            i = -2\n",
    "            while i > x:\n",
    "                if x % i == 0:\n",
    "                    return \"Skaitlis nav pirmskaitlis\"\n",
    "                i -= 1\n",
    "        else:\n",
    "            i = 2\n",
    "            while i < x:\n",
    "                if x % i == 0:\n",
    "                    return \"Skaitlis nav pirmskaitlis\"\n",
    "                i += 1\n",
    "        return \"Skaitlis ir pirmskaitlis\"\n",
    "\n",
    "    def TableMult(self, x):\n",
    "        if x == 0:\n",
    "            return \"Nullei nav reizināšanas tabulas\"\n",
    "        elif x < 0:\n",
    "            x = x * -1\n",
    "        else:\n",
    "            pass\n",
    "        n = x\n",
    "        B = pd.Series(range(1, x+1))\n",
    "        A = pd.Series(range(1, x+1))\n",
    "        dfA = pd.DataFrame(A)\n",
    "        dfB = pd.DataFrame(B)\n",
    "        dfA.dot(dfB.T)\n",
    "        return (dfA.dot(dfB.T))\n",
    "    \n",
    "    def listDiv(self, x):\n",
    "        atb = []\n",
    "        if x == 0:\n",
    "            return \"Nullei nav dalītāju\"\n",
    "        elif x < 0:\n",
    "            i = -1\n",
    "            while i >= x:\n",
    "                if x % i == 0:\n",
    "                    atb.append(i)\n",
    "                i -= 1\n",
    "        else:\n",
    "            i = 1\n",
    "            while i <= x:\n",
    "                if x % i == 0:\n",
    "                    atb.append(i)\n",
    "                i += 1\n",
    "        return atb\n",
    "    \n",
    "    def listDivPrime(self, x):\n",
    "        atb = []\n",
    "        if x == 0:\n",
    "            return \"Nullei nav dalītāju\"\n",
    "        elif x < 0:\n",
    "            i = -1\n",
    "            while i >= x:\n",
    "                if x % i == 0:\n",
    "                    if self.testPrime(i) == \"Skaitlis ir pirmskaitlis\":\n",
    "                        atb.append(i)\n",
    "                    else:\n",
    "                        pass\n",
    "                i -= 1\n",
    "        else:\n",
    "            i = 1\n",
    "            while i <= x:\n",
    "                if x % i == 0:\n",
    "                    if self.testPrime(i) == \"Skaitlis ir pirmskaitlis\":\n",
    "                        atb.append(i)\n",
    "                    else:\n",
    "                        pass\n",
    "                i += 1\n",
    "        return atb\n",
    "    #Teorētiski katram skatilim var būt gan pozitīvs dalītājs, gan negatīvs, bet ehhh\n",
    "\n",
    "l = input(\"Ievadiet veselu skaitli (decimālskaitļus tiks noapaļoti): \")\n",
    "l = round(float(l))\n",
    "skaitlis = Rekinatajs()"
   ]
  },
  {
   "cell_type": "code",
   "execution_count": 106,
   "metadata": {},
   "outputs": [
    {
     "data": {
      "text/plain": [
       "1"
      ]
     },
     "execution_count": 106,
     "metadata": {},
     "output_type": "execute_result"
    }
   ],
   "source": [
    "skaitlis.Faktorials(l)"
   ]
  },
  {
   "cell_type": "code",
   "execution_count": 107,
   "metadata": {},
   "outputs": [
    {
     "data": {
      "text/plain": [
       "'Nulle nav ne pirmskaitlis, ne salikts skaitlis'"
      ]
     },
     "execution_count": 107,
     "metadata": {},
     "output_type": "execute_result"
    }
   ],
   "source": [
    "skaitlis.testPrime(l)"
   ]
  },
  {
   "cell_type": "code",
   "execution_count": 108,
   "metadata": {},
   "outputs": [
    {
     "data": {
      "text/plain": [
       "0"
      ]
     },
     "execution_count": 108,
     "metadata": {},
     "output_type": "execute_result"
    }
   ],
   "source": [
    "skaitlis.Sum(l)"
   ]
  },
  {
   "cell_type": "code",
   "execution_count": 109,
   "metadata": {},
   "outputs": [
    {
     "data": {
      "text/plain": [
       "'Nullei nav dalītāju'"
      ]
     },
     "execution_count": 109,
     "metadata": {},
     "output_type": "execute_result"
    }
   ],
   "source": [
    "skaitlis.listDiv(l)"
   ]
  },
  {
   "cell_type": "code",
   "execution_count": 110,
   "metadata": {},
   "outputs": [
    {
     "data": {
      "text/plain": [
       "'Nullei nav dalītāju'"
      ]
     },
     "execution_count": 110,
     "metadata": {},
     "output_type": "execute_result"
    }
   ],
   "source": [
    "skaitlis.listDivPrime(l)"
   ]
  },
  {
   "cell_type": "code",
   "execution_count": 111,
   "metadata": {},
   "outputs": [
    {
     "data": {
      "text/plain": [
       "'Nullei nav reizināšanas tabulas'"
      ]
     },
     "execution_count": 111,
     "metadata": {},
     "output_type": "execute_result"
    }
   ],
   "source": [
    "skaitlis.TableMult(l)"
   ]
  }
 ],
 "metadata": {
  "kernelspec": {
   "display_name": "Python 3.10.6 64-bit",
   "language": "python",
   "name": "python3"
  },
  "language_info": {
   "codemirror_mode": {
    "name": "ipython",
    "version": 3
   },
   "file_extension": ".py",
   "mimetype": "text/x-python",
   "name": "python",
   "nbconvert_exporter": "python",
   "pygments_lexer": "ipython3",
   "version": "3.10.6"
  },
  "orig_nbformat": 4,
  "vscode": {
   "interpreter": {
    "hash": "9d674c11913ec762cdea16fbb6359be13b306bb88a115eccb4d688321fcf97cb"
   }
  }
 },
 "nbformat": 4,
 "nbformat_minor": 2
}
