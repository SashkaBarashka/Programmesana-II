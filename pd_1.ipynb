{
 "cells": [
  {
   "cell_type": "code",
   "execution_count": 71,
   "metadata": {},
   "outputs": [],
   "source": [
    "import pandas as pd\n",
    "\n",
    "#Aleksandrs Baranovskis, 12.DIT\n",
    "class Rekinatajs:\n",
    "    def __init__(self):\n",
    "        pass\n",
    "    \n",
    "    def Faktorials(self, x):\n",
    "        if -1 < x < 1:\n",
    "            if x == 0:\n",
    "                atb = 0\n",
    "            else:\n",
    "                atb = x\n",
    "        elif x < -1:\n",
    "            atb = -1\n",
    "            i = -2\n",
    "            while i >= x:\n",
    "                atb = atb * i\n",
    "                i -= 1\n",
    "        else:\n",
    "            atb = 1\n",
    "            i = 2\n",
    "            while i <= x:\n",
    "                atb = atb * i\n",
    "                i += 1\n",
    "        return atb\n",
    "    \n",
    "    def Sum(self, x):\n",
    "        if -1 < x < 1:\n",
    "            atb = x\n",
    "        elif x > 1:\n",
    "            atb = 1\n",
    "            i = 2\n",
    "            while i <= x:\n",
    "                atb = atb + i\n",
    "                i += 1\n",
    "        else:\n",
    "            atb = -1\n",
    "            i = -2\n",
    "            while i >= x:\n",
    "                atb = atb + i\n",
    "                i -= 1\n",
    "        return atb\n",
    "    \n",
    "    def testPrime(self, x):\n",
    "        if x == 0:\n",
    "            return \"Skaitlis nav pirmskaitlis\"\n",
    "        elif x < 0:\n",
    "            i = -2\n",
    "            while i > x:\n",
    "                if x % i == 0:\n",
    "                    return \"Skaitlis nav pirmskaitlis\"\n",
    "                i -= 1\n",
    "        else:\n",
    "            i = 2\n",
    "            while i < x:\n",
    "                if x % i == 0:\n",
    "                    return \"Skaitlis nav pirmskaitlis\"\n",
    "                i += 1\n",
    "        return \"Skaitlis ir pirmskaitlis\"\n",
    "\n",
    "    def TableMult(self, x):\n",
    "        if x < 0:\n",
    "            x = x * -1\n",
    "        else:\n",
    "            pass\n",
    "        n = x\n",
    "        B = pd.Series(range(1, x))\n",
    "        A = pd.Series(range(1, x))\n",
    "        dfA = pd.DataFrame(A)\n",
    "        dfB = pd.DataFrame(B)\n",
    "        dfA.dot(dfB.T)\n",
    "        print(dfA.dot(dfB.T))\n",
    "    \n",
    "    def listDiv(self, x):\n",
    "        atb = []\n",
    "        if x < 0:\n",
    "            i = -1\n",
    "            while i >= x:\n",
    "                if x % i == 0:\n",
    "                    atb.append(i)\n",
    "                i -= 1\n",
    "        else:\n",
    "            i = 1\n",
    "            while i <= x:\n",
    "                if x % i == 0:\n",
    "                    atb.append(i)\n",
    "                i += 1\n",
    "        return atb\n",
    "    \n",
    "    def listDivPrime(self, x):\n",
    "        atb = []\n",
    "        if x < 0:\n",
    "            i = -1\n",
    "            while i >= x:\n",
    "                if x % i == 0:\n",
    "                    if self.testPrime(i) == \"Skaitlis ir pirmskaitlis\":\n",
    "                        atb.append(i)\n",
    "                    else:\n",
    "                        pass\n",
    "                i -= 1\n",
    "        else:\n",
    "            i = 1\n",
    "            while i <= x:\n",
    "                if x % i == 0:\n",
    "                    if self.testPrime(i) == \"Skaitlis ir pirmskaitlis\":\n",
    "                        atb.append(i)\n",
    "                    else:\n",
    "                        pass\n",
    "                i += 1\n",
    "        return atb"
   ]
  },
  {
   "cell_type": "code",
   "execution_count": 72,
   "metadata": {},
   "outputs": [
    {
     "data": {
      "text/plain": [
       "51090942171709440000"
      ]
     },
     "execution_count": 72,
     "metadata": {},
     "output_type": "execute_result"
    }
   ],
   "source": [
    "l = input(\"Ievadiet veselu skaitli (decimālskaitļus tiks noapaļoti): \")\n",
    "l = round(float(l))\n",
    "skaitlis = Rekinatajs()\n",
    "skaitlis.Faktorials(l)"
   ]
  },
  {
   "cell_type": "code",
   "execution_count": 73,
   "metadata": {},
   "outputs": [
    {
     "data": {
      "text/plain": [
       "'Skaitlis nav pirmskaitlis'"
      ]
     },
     "execution_count": 73,
     "metadata": {},
     "output_type": "execute_result"
    }
   ],
   "source": [
    "skaitlis.testPrime(l)"
   ]
  },
  {
   "cell_type": "code",
   "execution_count": 74,
   "metadata": {},
   "outputs": [
    {
     "data": {
      "text/plain": [
       "231"
      ]
     },
     "execution_count": 74,
     "metadata": {},
     "output_type": "execute_result"
    }
   ],
   "source": [
    "skaitlis.Sum(l)"
   ]
  },
  {
   "cell_type": "code",
   "execution_count": 75,
   "metadata": {},
   "outputs": [
    {
     "data": {
      "text/plain": [
       "[1, 3, 7, 21]"
      ]
     },
     "execution_count": 75,
     "metadata": {},
     "output_type": "execute_result"
    }
   ],
   "source": [
    "skaitlis.listDiv(l)"
   ]
  },
  {
   "cell_type": "code",
   "execution_count": 76,
   "metadata": {},
   "outputs": [
    {
     "data": {
      "text/plain": [
       "[1, 3, 7]"
      ]
     },
     "execution_count": 76,
     "metadata": {},
     "output_type": "execute_result"
    }
   ],
   "source": [
    "skaitlis.listDivPrime(l)"
   ]
  },
  {
   "cell_type": "code",
   "execution_count": 77,
   "metadata": {},
   "outputs": [
    {
     "name": "stdout",
     "output_type": "stream",
     "text": [
      "    0   1   2   3    4    5    6    7    8    9    10   11   12   13   14  \\\n",
      "0    1   2   3   4    5    6    7    8    9   10   11   12   13   14   15   \n",
      "1    2   4   6   8   10   12   14   16   18   20   22   24   26   28   30   \n",
      "2    3   6   9  12   15   18   21   24   27   30   33   36   39   42   45   \n",
      "3    4   8  12  16   20   24   28   32   36   40   44   48   52   56   60   \n",
      "4    5  10  15  20   25   30   35   40   45   50   55   60   65   70   75   \n",
      "5    6  12  18  24   30   36   42   48   54   60   66   72   78   84   90   \n",
      "6    7  14  21  28   35   42   49   56   63   70   77   84   91   98  105   \n",
      "7    8  16  24  32   40   48   56   64   72   80   88   96  104  112  120   \n",
      "8    9  18  27  36   45   54   63   72   81   90   99  108  117  126  135   \n",
      "9   10  20  30  40   50   60   70   80   90  100  110  120  130  140  150   \n",
      "10  11  22  33  44   55   66   77   88   99  110  121  132  143  154  165   \n",
      "11  12  24  36  48   60   72   84   96  108  120  132  144  156  168  180   \n",
      "12  13  26  39  52   65   78   91  104  117  130  143  156  169  182  195   \n",
      "13  14  28  42  56   70   84   98  112  126  140  154  168  182  196  210   \n",
      "14  15  30  45  60   75   90  105  120  135  150  165  180  195  210  225   \n",
      "15  16  32  48  64   80   96  112  128  144  160  176  192  208  224  240   \n",
      "16  17  34  51  68   85  102  119  136  153  170  187  204  221  238  255   \n",
      "17  18  36  54  72   90  108  126  144  162  180  198  216  234  252  270   \n",
      "18  19  38  57  76   95  114  133  152  171  190  209  228  247  266  285   \n",
      "19  20  40  60  80  100  120  140  160  180  200  220  240  260  280  300   \n",
      "\n",
      "     15   16   17   18   19  \n",
      "0    16   17   18   19   20  \n",
      "1    32   34   36   38   40  \n",
      "2    48   51   54   57   60  \n",
      "3    64   68   72   76   80  \n",
      "4    80   85   90   95  100  \n",
      "5    96  102  108  114  120  \n",
      "6   112  119  126  133  140  \n",
      "7   128  136  144  152  160  \n",
      "8   144  153  162  171  180  \n",
      "9   160  170  180  190  200  \n",
      "10  176  187  198  209  220  \n",
      "11  192  204  216  228  240  \n",
      "12  208  221  234  247  260  \n",
      "13  224  238  252  266  280  \n",
      "14  240  255  270  285  300  \n",
      "15  256  272  288  304  320  \n",
      "16  272  289  306  323  340  \n",
      "17  288  306  324  342  360  \n",
      "18  304  323  342  361  380  \n",
      "19  320  340  360  380  400  \n"
     ]
    }
   ],
   "source": [
    "skaitlis.TableMult(l)"
   ]
  }
 ],
 "metadata": {
  "kernelspec": {
   "display_name": "Python 3.10.0 64-bit",
   "language": "python",
   "name": "python3"
  },
  "language_info": {
   "codemirror_mode": {
    "name": "ipython",
    "version": 3
   },
   "file_extension": ".py",
   "mimetype": "text/x-python",
   "name": "python",
   "nbconvert_exporter": "python",
   "pygments_lexer": "ipython3",
   "version": "3.10.0"
  },
  "orig_nbformat": 4,
  "vscode": {
   "interpreter": {
    "hash": "afb734500600fd355917ca529030176ea0ca205570884b88f2f6f7d791fd3fbe"
   }
  }
 },
 "nbformat": 4,
 "nbformat_minor": 2
}
