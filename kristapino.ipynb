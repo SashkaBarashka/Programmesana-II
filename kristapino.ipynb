{
 "cells": [
  {
   "cell_type": "code",
   "execution_count": 2,
   "metadata": {},
   "outputs": [
    {
     "ename": "ValueError",
     "evalue": "invalid literal for int() with base 10: '5.5'",
     "output_type": "error",
     "traceback": [
      "\u001b[1;31m---------------------------------------------------------------------------\u001b[0m",
      "\u001b[1;31mValueError\u001b[0m                                Traceback (most recent call last)",
      "\u001b[1;32mc:\\Users\\User\\Documents\\GitHub\\Programmesana-II\\kristapino.ipynb Cell 1\u001b[0m in \u001b[0;36m<cell line: 7>\u001b[1;34m()\u001b[0m\n\u001b[0;32m      <a href='vscode-notebook-cell:/c%3A/Users/User/Documents/GitHub/Programmesana-II/kristapino.ipynb#W0sZmlsZQ%3D%3D?line=3'>4</a>\u001b[0m \u001b[39mimport\u001b[39;00m \u001b[39mwebbrowser\u001b[39;00m\n\u001b[0;32m      <a href='vscode-notebook-cell:/c%3A/Users/User/Documents/GitHub/Programmesana-II/kristapino.ipynb#W0sZmlsZQ%3D%3D?line=4'>5</a>\u001b[0m \u001b[39mimport\u001b[39;00m \u001b[39mpandas\u001b[39;00m \u001b[39mas\u001b[39;00m \u001b[39mpd\u001b[39;00m\n\u001b[1;32m----> <a href='vscode-notebook-cell:/c%3A/Users/User/Documents/GitHub/Programmesana-II/kristapino.ipynb#W0sZmlsZQ%3D%3D?line=6'>7</a>\u001b[0m \u001b[39mclass\u001b[39;00m \u001b[39mRekinatajs\u001b[39;00m:\n\u001b[0;32m      <a href='vscode-notebook-cell:/c%3A/Users/User/Documents/GitHub/Programmesana-II/kristapino.ipynb#W0sZmlsZQ%3D%3D?line=7'>8</a>\u001b[0m     num \u001b[39m=\u001b[39m \u001b[39mint\u001b[39m(\u001b[39minput\u001b[39m(\u001b[39m'\u001b[39m\u001b[39mievadi naturālu skaitli \u001b[39m\u001b[39m'\u001b[39m))    \n\u001b[0;32m      <a href='vscode-notebook-cell:/c%3A/Users/User/Documents/GitHub/Programmesana-II/kristapino.ipynb#W0sZmlsZQ%3D%3D?line=8'>9</a>\u001b[0m     \u001b[39mif\u001b[39;00m num\u001b[39m<\u001b[39m\u001b[39m1\u001b[39m:\n",
      "\u001b[1;32mc:\\Users\\User\\Documents\\GitHub\\Programmesana-II\\kristapino.ipynb Cell 1\u001b[0m in \u001b[0;36mRekinatajs\u001b[1;34m()\u001b[0m\n\u001b[0;32m      <a href='vscode-notebook-cell:/c%3A/Users/User/Documents/GitHub/Programmesana-II/kristapino.ipynb#W0sZmlsZQ%3D%3D?line=6'>7</a>\u001b[0m \u001b[39mclass\u001b[39;00m \u001b[39mRekinatajs\u001b[39;00m:\n\u001b[1;32m----> <a href='vscode-notebook-cell:/c%3A/Users/User/Documents/GitHub/Programmesana-II/kristapino.ipynb#W0sZmlsZQ%3D%3D?line=7'>8</a>\u001b[0m     num \u001b[39m=\u001b[39m \u001b[39mint\u001b[39;49m(\u001b[39minput\u001b[39;49m(\u001b[39m'\u001b[39;49m\u001b[39mievadi naturālu skaitli \u001b[39;49m\u001b[39m'\u001b[39;49m))    \n\u001b[0;32m      <a href='vscode-notebook-cell:/c%3A/Users/User/Documents/GitHub/Programmesana-II/kristapino.ipynb#W0sZmlsZQ%3D%3D?line=8'>9</a>\u001b[0m     \u001b[39mif\u001b[39;00m num\u001b[39m<\u001b[39m\u001b[39m1\u001b[39m:\n\u001b[0;32m     <a href='vscode-notebook-cell:/c%3A/Users/User/Documents/GitHub/Programmesana-II/kristapino.ipynb#W0sZmlsZQ%3D%3D?line=9'>10</a>\u001b[0m         webbrowser\u001b[39m.\u001b[39mopen(\u001b[39m'\u001b[39m\u001b[39mhttps://www.uzdevumi.lv/p/matematika/5-klase/naturali-skaitli-vieni-desmiti-simti-4257/skaitli-cipari-romiesu-cipari-12350/re-72d449c5-c07e-42a5-afef-b726dfc300f3\u001b[39m\u001b[39m'\u001b[39m)\n",
      "\u001b[1;31mValueError\u001b[0m: invalid literal for int() with base 10: '5.5'"
     ]
    }
   ],
   "source": [
    "#Kristps Renis Strods(😒👌🤦‍♂️👍🐱‍👤😜)\n",
    "import numpy as np\n",
    "import sys\n",
    "import webbrowser\n",
    "import pandas as pd\n",
    "\n",
    "class Rekinatajs:\n",
    "    num = int(input('ievadi naturālu skaitli '))    \n",
    "    if num<1:\n",
    "        webbrowser.open('https://www.uzdevumi.lv/p/matematika/5-klase/naturali-skaitli-vieni-desmiti-simti-4257/skaitli-cipari-romiesu-cipari-12350/re-72d449c5-c07e-42a5-afef-b726dfc300f3')\n",
    "        sys.exit()\n",
    "\n",
    "    def __init__ (self):\n",
    "        pass\n",
    "        \n",
    "    def read_number(self):\n",
    "        self.x = self.num\n",
    "        print(self.x,'pats skaitlis')\n",
    "\n",
    "    def faktorials(self):\n",
    "        if (self.x>50):\n",
    "            print(self.x,'!')       \n",
    "        else:\n",
    "            fact= 1\n",
    "            for i in range(1,self.x+1):\n",
    "                fact = fact * i\n",
    "            print ('faktorials skaitlim',self.x,'ir',fact)\n",
    "\n",
    "    def Sum(self):\n",
    "        sum= 0\n",
    "        for i in range(1,self.x+1):\n",
    "            sum = sum + i\n",
    "        print('summa līdz skaitlim',self.x,'ir',sum)\n",
    "\n",
    "    def testPrime(self):\n",
    "        if self.x == 1:\n",
    "            print(self.x,' nav pirmskaitlis')\n",
    "        elif self.x>1:\n",
    "            for u in range(2,self.x):         \n",
    "                if self.x % u == 0:\n",
    "                    print(self.x,'nav pirmskaitlis')\n",
    "                    break  \n",
    "            else:\n",
    "                print(self.x,'ir pirmskaitlis')                   \n",
    "\n",
    "    def listDiv(self):\n",
    "        m=[]\n",
    "        for u in range(1,self.x+1):              \n",
    "            if self.x % u == 0:\n",
    "                m.append(u)\n",
    "        print('skaitļa',self.x,'dalītāji', m)  \n",
    "\n",
    "    def listDivPrime(self):\n",
    "        if self.x == 1:\n",
    "            print('1 var dalīties tikai ar sevi un 1 nav pirmskaitlis')\n",
    "        else:    \n",
    "            o=[]\n",
    "            for u in range(1,self.x+1):              \n",
    "                if self.x % u  == 0:\n",
    "                    if u>1:\n",
    "                        for i in range(2,u):\n",
    "                            if u%i == 0:\n",
    "                                break\n",
    "                        else:\n",
    "                            o.append(u)\n",
    "            print('skaitļa',self.x,'pirmskaitļu dalītāji',o)\n",
    "\n",
    "    def tabula(self):\n",
    "        y=[]\n",
    "        for i in range(1,self.x+1):\n",
    "            for m in range(1,self.x+1):\n",
    "                u=m*i\n",
    "                y.append(u)\n",
    "        jaunsy = np.array_split(y, self.x)\n",
    "        \n",
    "        \n",
    "        df = pd.DataFrame(jaunsy)\n",
    "        print(df)\n",
    "            \n",
    "obj = Rekinatajs()  \n",
    "obj.read_number()\n",
    "obj.faktorials()\n",
    "obj.Sum()\n",
    "obj.testPrime()\n",
    "obj.listDiv()\n",
    "obj.listDivPrime()\n",
    "obj.tabula()"
   ]
  }
 ],
 "metadata": {
  "kernelspec": {
   "display_name": "Python 3.10.0 64-bit",
   "language": "python",
   "name": "python3"
  },
  "language_info": {
   "codemirror_mode": {
    "name": "ipython",
    "version": 3
   },
   "file_extension": ".py",
   "mimetype": "text/x-python",
   "name": "python",
   "nbconvert_exporter": "python",
   "pygments_lexer": "ipython3",
   "version": "3.10.0"
  },
  "orig_nbformat": 4,
  "vscode": {
   "interpreter": {
    "hash": "afb734500600fd355917ca529030176ea0ca205570884b88f2f6f7d791fd3fbe"
   }
  }
 },
 "nbformat": 4,
 "nbformat_minor": 2
}
