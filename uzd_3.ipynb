{
 "cells": [
  {
   "cell_type": "code",
   "execution_count": 8,
   "metadata": {},
   "outputs": [
    {
     "name": "stdout",
     "output_type": "stream",
     "text": [
      "Pieaugusa bilesu cena:  28\n",
      "Bernu biletes cena:  23.8\n",
      "Opisa biletes cena:  23.8\n"
     ]
    }
   ],
   "source": [
    "class biletes:\n",
    "    def __init__(self, daudzums, cena):\n",
    "        self.daudzums = daudzums\n",
    "        self.cena = cena\n",
    "    def kopeja_cena(self):\n",
    "        return self.daudzums * self.cena\n",
    "\n",
    "class skolenu_biletes(biletes):\n",
    "    def skolenu_atlaide(self):\n",
    "        amount = super().kopeja_cena()\n",
    "        amount =+ amount * 0.85\n",
    "        return amount\n",
    "\n",
    "class pensionaru_biletes(biletes):\n",
    "    def pensionaru_atlaide(self):\n",
    "        amount = super().kopeja_cena()\n",
    "        amount =+ amount * 0.85\n",
    "        return amount\n",
    "    \n",
    "pieaugusa_bilete = biletes(4, 7)\n",
    "print(\"Pieaugusa bilesu cena: \", pieaugusa_bilete.kopeja_cena())\n",
    "\n",
    "bernas_biletes = skolenu_biletes(4, 7)\n",
    "print(\"Bernu biletes cena: \", bernas_biletes.skolenu_atlaide())\n",
    "\n",
    "opisa_bilete = pensionaru_biletes(4, 7)\n",
    "print(\"Opisa biletes cena: \", opisa_bilete.pensionaru_atlaide())"
   ]
  }
 ],
 "metadata": {
  "kernelspec": {
   "display_name": "Python 3.10.0 64-bit",
   "language": "python",
   "name": "python3"
  },
  "language_info": {
   "codemirror_mode": {
    "name": "ipython",
    "version": 3
   },
   "file_extension": ".py",
   "mimetype": "text/x-python",
   "name": "python",
   "nbconvert_exporter": "python",
   "pygments_lexer": "ipython3",
   "version": "3.10.0"
  },
  "orig_nbformat": 4,
  "vscode": {
   "interpreter": {
    "hash": "afb734500600fd355917ca529030176ea0ca205570884b88f2f6f7d791fd3fbe"
   }
  }
 },
 "nbformat": 4,
 "nbformat_minor": 2
}
