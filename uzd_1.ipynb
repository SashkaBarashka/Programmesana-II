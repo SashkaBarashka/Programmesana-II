{
 "cells": [
  {
   "cell_type": "code",
   "execution_count": 8,
   "metadata": {},
   "outputs": [
    {
     "name": "stdout",
     "output_type": "stream",
     "text": [
      "Trijstura perimetrs ir 9.64575131106459\n",
      "Trijstura laukums ir 6.0\n"
     ]
    }
   ],
   "source": [
    "import math\n",
    "\n",
    "class trijsturis:\n",
    "    def __init__(self, m1, m2, m3):\n",
    "        self.mala1 = m1\n",
    "        self.mala2 = m2\n",
    "        self.mala3 = m3\n",
    "    def trijperm(self):\n",
    "        tspm = m1 + m2 + m3\n",
    "        print(\"Trijstura perimetrs ir \" + str(tspm))\n",
    "    def trijlauk(self):\n",
    "        tslauk = m1 * m2 / 2\n",
    "        print(\"Trijstura laukums ir \" + str(tslauk))\n",
    "\n",
    "m1 = 3\n",
    "m2 = 4\n",
    "m3 = m1^2 + m2^2\n",
    "m3 = math.sqrt(m3)\n",
    "\n",
    "ts = trijsturis(m1,m2,m3)\n",
    "\n",
    "ts.trijperm()\n",
    "ts.trijlauk()"
   ]
  }
 ],
 "metadata": {
  "kernelspec": {
   "display_name": "Python 3.10.0 64-bit",
   "language": "python",
   "name": "python3"
  },
  "language_info": {
   "codemirror_mode": {
    "name": "ipython",
    "version": 3
   },
   "file_extension": ".py",
   "mimetype": "text/x-python",
   "name": "python",
   "nbconvert_exporter": "python",
   "pygments_lexer": "ipython3",
   "version": "3.10.0"
  },
  "orig_nbformat": 4,
  "vscode": {
   "interpreter": {
    "hash": "afb734500600fd355917ca529030176ea0ca205570884b88f2f6f7d791fd3fbe"
   }
  }
 },
 "nbformat": 4,
 "nbformat_minor": 2
}
